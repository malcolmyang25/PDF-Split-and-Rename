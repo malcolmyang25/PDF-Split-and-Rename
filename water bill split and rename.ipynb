{
 "cells": [
  {
   "cell_type": "code",
   "execution_count": null,
   "metadata": {},
   "outputs": [],
   "source": [
    "import pdfplumber\n",
    "import os\n",
    "import fnmatch\n",
    "from shutil import copyfile\n",
    "from PyPDF2 import PdfFileWriter, PdfFileMerger, PdfFileReader\n",
    "import glob\n",
    "import sys"
   ]
  },
  {
   "cell_type": "code",
   "execution_count": null,
   "metadata": {},
   "outputs": [],
   "source": [
    "pdfs = glob.glob(\"/Users/malcolm/Desktop/PDF split/Original Files/*.pdf\")\n",
    "merger = PdfFileMerger()\n",
    "if os.path.exists(\"/Users/malcolm/Desktop/PDF split/Original Files/pdf_merge_temp.pdf\"):\n",
    "    os.remove(\"/Users/malcolm/Desktop/PDF split/Original Files/pdf_merge_temp.pdf\")\n",
    "for pdf in pdfs:\n",
    "    merger.append(pdf)\n",
    "merger.write(\"/Users/malcolm/Desktop/PDF split/Original Files/pdf_merge_temp.pdf\")\n",
    "merger.close()"
   ]
  },
  {
   "cell_type": "code",
   "execution_count": null,
   "metadata": {},
   "outputs": [],
   "source": [
    "pdf=\"/Users/malcolm/Desktop/PDF split/Original Files/pdf_merge_temp.pdf\"\n",
    "pdf_file = PdfFileReader(open(pdf,\"rb\"))\n",
    "pdf_pages_len = pdf_file.getNumPages() // 4\n",
    "for n in range(pdf_pages_len):\n",
    "    output = PdfFileWriter()\n",
    "    start_page = n*4\n",
    "    end_page = (n+1)*4\n",
    "    for i in range(start_page, end_page):\n",
    "        output.addPage(pdf_file.getPage(i))\n",
    "        newname = \"/Users/malcolm/Desktop/PDF split/Split Files/PP4 - \" + str(n+1) + \".pdf\"\n",
    "    outputStream = open(newname, \"wb\")\n",
    "    output.write(outputStream)\n",
    "    outputStream.close()\n",
    "    print('File:'+newname+' |Start Page:'+str(n*4)+' |End Page:'+str((n+1)*4))"
   ]
  },
  {
   "cell_type": "code",
   "execution_count": null,
   "metadata": {},
   "outputs": [],
   "source": [
    "pdfs = glob.glob(\"/Users/malcolm/Desktop/PDF split/Original Files 2/*.pdf\")\n",
    "merger = PdfFileMerger()\n",
    "if os.path.exists(\"/Users/malcolm/Desktop/PDF split/Original Files 2/pdf_merge_temp.pdf\"):\n",
    "    os.remove(\"/Users/malcolm/Desktop/PDF split/Original Files 2/pdf_merge_temp.pdf\")\n",
    "for pdf in pdfs:\n",
    "    merger.append(pdf)\n",
    "merger.write(\"/Users/malcolm/Desktop/PDF split/Original Files 2/pdf_merge_temp.pdf\")\n",
    "merger.close()"
   ]
  },
  {
   "cell_type": "code",
   "execution_count": null,
   "metadata": {},
   "outputs": [],
   "source": [
    "pdf=\"/Users/malcolm/Desktop/PDF split/Original Files 2/pdf_merge_temp.pdf\"\n",
    "pdf_file = PdfFileReader(open(pdf,\"rb\"))\n",
    "pdf_pages_len = pdf_file.getNumPages() // 3\n",
    "for n in range(pdf_pages_len):\n",
    "    output = PdfFileWriter()\n",
    "    start_page = n*3\n",
    "    end_page = (n+1)*3\n",
    "    for i in range(start_page, end_page):\n",
    "        output.addPage(pdf_file.getPage(i))\n",
    "        newname = \"/Users/malcolm/Desktop/PDF split/Split Files/PP3 - \" + str(n+1) + \".pdf\"\n",
    "    outputStream = open(newname, \"wb\")\n",
    "    output.write(outputStream)\n",
    "    outputStream.close()\n",
    "    print('File:'+newname+' |Start Page:'+str(n*3)+' |End Page:'+str((n+1)*3))"
   ]
  },
  {
   "cell_type": "code",
   "execution_count": null,
   "metadata": {},
   "outputs": [],
   "source": [
    "fdir=fnmatch.filter(os.listdir(\"/Users/malcolm/Desktop/PDF split/Split Files/\"), 'PP3*.pdf')\n",
    "print('Total Rename File number '+str(len(fdir)))"
   ]
  },
  {
   "cell_type": "code",
   "execution_count": null,
   "metadata": {},
   "outputs": [],
   "source": [
    "for i in range(len(fdir)):\n",
    "    fname=\"/Users/malcolm/Desktop/PDF split/Split Files/\"+str(fdir[i])\n",
    "    with pdfplumber.open(fname) as pdf:\n",
    "        first_page = pdf.pages[0]\n",
    "        add_text=first_page.extract_text()\n",
    "        add_text_new=add_text.split(\"\\n\")\n",
    "        name1=add_text_new[13][(add_text_new[13].find('ACCOUNT')+8):].strip()\n",
    "        name2=add_text_new[10].replace('Account','').strip()\n",
    "        fname_new='No.'+str(i+101)+'_'+name1+'_'+name2+'_FY20C3'\n",
    "        fname2=fname_new.replace('/','-')\n",
    "    src=fname\n",
    "    dst=\"/Users/malcolm/Desktop/PDF split/Export Files/\"+fname2+\".pdf\"\n",
    "    copyfile(src, dst)\n",
    "    print(\"File No.\"+str(i+101)+\"|File Name: \"+fname2+\".pdf\")\n",
    "    i+1"
   ]
  },
  {
   "cell_type": "code",
   "execution_count": null,
   "metadata": {},
   "outputs": [],
   "source": [
    "fdir=fnmatch.filter(os.listdir(\"/Users/malcolm/Desktop/PDF split/Split Files/\"), 'PP4*.pdf')\n",
    "print('Total Rename File number '+str(len(fdir)))"
   ]
  },
  {
   "cell_type": "code",
   "execution_count": null,
   "metadata": {},
   "outputs": [],
   "source": [
    "for i in range(len(fdir)):\n",
    "    fname=\"/Users/malcolm/Desktop/PDF split/Split Files/\"+str(fdir[i])\n",
    "    with pdfplumber.open(fname) as pdf:\n",
    "        first_page = pdf.pages[0]\n",
    "        add_text=first_page.extract_text()\n",
    "        add_text_new=add_text.split(\"\\n\")\n",
    "        name1=add_text_new[10][(add_text_new[10].find('for')+4):].strip()\n",
    "        name2=add_text_new[2][(add_text_new[2].find('Code')+4):].strip()\n",
    "        fname_new='No.'+str(i+201)+'_'+name1+'_'+name2+'_FY20C3'\n",
    "        fname2=fname_new.replace('/','-')\n",
    "    src=fname\n",
    "    dst=\"/Users/malcolm/Desktop/PDF split/Export Files/\"+fname2+\".pdf\"\n",
    "    copyfile(src, dst)\n",
    "    print(\"File No. \"+str(i+201)+\"|File Name: \"+fname2+\".pdf\")\n",
    "    i+1"
   ]
  }
 ],
 "metadata": {
  "kernelspec": {
   "display_name": "Python 3",
   "language": "python",
   "name": "python3"
  },
  "language_info": {
   "codemirror_mode": {
    "name": "ipython",
    "version": 3
   },
   "file_extension": ".py",
   "mimetype": "text/x-python",
   "name": "python",
   "nbconvert_exporter": "python",
   "pygments_lexer": "ipython3",
   "version": "3.7.3"
  }
 },
 "nbformat": 4,
 "nbformat_minor": 2
}
