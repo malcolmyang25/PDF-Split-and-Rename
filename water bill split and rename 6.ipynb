{
 "cells": [
  {
   "cell_type": "code",
   "execution_count": null,
   "metadata": {},
   "outputs": [],
   "source": [
    "import pdfplumber\n",
    "import os\n",
    "import fnmatch\n",
    "from shutil import copyfile\n",
    "from PyPDF2 import PdfFileWriter, PdfFileMerger, PdfFileReader\n",
    "import glob\n",
    "import sys\n",
    "from PIL import Image\n",
    "import pytesseract\n",
    "import fitz\n",
    "import re"
   ]
  },
  {
   "cell_type": "code",
   "execution_count": null,
   "metadata": {},
   "outputs": [],
   "source": [
    "#empty all temp files\n",
    "files = glob.glob(r'XXXX\\Water Billing PDF Split\\Rename Invoice\\Invoice 4 Pages\\*')\n",
    "for f in files:\n",
    "    os.remove(f)"
   ]
  },
  {
   "cell_type": "code",
   "execution_count": null,
   "metadata": {},
   "outputs": [],
   "source": [
    "fname_format1=\"*.pdf\"\n",
    "src_dir=\"XXXX\\\\Water Billing PDF Split\\\\Rename Invoice Src\\\\Invoice 4 Pages\\\\\"\n",
    "dst_dir=\"XXXX\\\\Water Billing PDF Split\\\\Rename Invoice\\\\Invoice 4 Pages\\\\\"\n",
    "fdir=fnmatch.filter(os.listdir(src_dir), fname_format1)\n",
    "print('Total Rename File number '+str(len(fdir)))"
   ]
  },
  {
   "cell_type": "code",
   "execution_count": null,
   "metadata": {},
   "outputs": [],
   "source": [
    "##initial tesseract environment\n",
    "pytesseract.pytesseract.tesseract_cmd = 'C:\\\\Users\\\\malcolm.yang\\\\AppData\\\\Local\\\\Tesseract-OCR\\\\tesseract.exe'"
   ]
  },
  {
   "cell_type": "code",
   "execution_count": null,
   "metadata": {},
   "outputs": [],
   "source": [
    "for i in range(len(fdir)):\n",
    "    fname=src_dir+str(fdir[i])\n",
    "    pdffile = fname\n",
    "    doc = fitz.open(pdffile)\n",
    "    page = doc.loadPage(0)\n",
    "    zoom = 2    # zoom factor\n",
    "    mat = fitz.Matrix(zoom, zoom)\n",
    "    pix = page.getPixmap(matrix=fitz.Matrix(150/72,150/72))\n",
    "    output = \"XXXX\\\\Water Billing PDF Split\\\\Rename Invoice Src\\\\test.png\"\n",
    "    pix.writePNG(output)\n",
    "    im = Image.open(output) \n",
    "    left = 850\n",
    "    right = 1100\n",
    "    top = 360\n",
    "    bottom = 460\n",
    "    im1 = im.crop((left, top, right, bottom)) \n",
    "    words = pytesseract.image_to_string(im1)\n",
    "    words2 = words.split(\"\\n\") \n",
    "    name1_str = str(words2[0])\n",
    "    name1 = int(re.search(r'\\d+', name1_str)[0])\n",
    "    name2_str = str(words2[2])\n",
    "    name2 = int(re.search(r'\\d+', name2_str)[0])\n",
    "    ##quarter name needs to update\n",
    "    fname2 = 'No.'+str(i+101)+'_SW_'+str(name1)+'_TC'+str(name2)+'_FY21Q1'\n",
    "    src=fname\n",
    "    dst=dst_dir+fname2+\".pdf\"\n",
    "    copyfile(src, dst)\n",
    "    print(\"File No.\"+str(i+101)+\"|File Name: \"+fname2+\".pdf\")\n",
    "    i+1"
   ]
  }
 ],
 "metadata": {
  "kernelspec": {
   "display_name": "Python 3",
   "language": "python",
   "name": "python3"
  },
  "language_info": {
   "codemirror_mode": {
    "name": "ipython",
    "version": 3
   },
   "file_extension": ".py",
   "mimetype": "text/x-python",
   "name": "python",
   "nbconvert_exporter": "python",
   "pygments_lexer": "ipython3",
   "version": "3.8.5"
  }
 },
 "nbformat": 4,
 "nbformat_minor": 2
}